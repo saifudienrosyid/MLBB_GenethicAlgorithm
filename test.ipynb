{
 "cells": [
  {
   "cell_type": "code",
   "execution_count": 6,
   "metadata": {},
   "outputs": [
    {
     "name": "stdout",
     "output_type": "stream",
     "text": [
      "Populasi Awal:\n",
      "[90, 41, 39, 81, 20]\n",
      "[12, 60, 96, 89, 63]\n",
      "[81, 21, 78, 24, 92]\n",
      "[50, 43, 14, 3, 66]\n",
      "[25, 30, 40, 69, 25]\n",
      "[31, 36, 23, 16, 69]\n",
      "[14, 14, 41, 92, 82]\n",
      "[57, 60, 94, 13, 82]\n",
      "[29, 79, 12, 6, 72]\n",
      "[0, 74, 84, 69, 44]\n"
     ]
    }
   ],
   "source": [
    "import random\n",
    "\n",
    "def generate_individual(chromosome_length):\n",
    "    # Fungsi ini menghasilkan satu individu acak dengan panjang kromosom tertentu.\n",
    "    return [random.randint(0, 100) for _ in range(chromosome_length)]\n",
    "\n",
    "def initialize_population(population_size, chromosome_length):\n",
    "    # Fungsi ini menghasilkan populasi awal dengan sejumlah individu.\n",
    "    return [generate_individual(chromosome_length) for _ in range(population_size)]\n",
    "\n",
    "# Contoh penggunaan\n",
    "population_size = 10\n",
    "chromosome_length = 5\n",
    "\n",
    "population = initialize_population(population_size, chromosome_length)\n",
    "print(\"Populasi Awal:\")\n",
    "for individual in population:\n",
    "    print(individual)\n"
   ]
  },
  {
   "cell_type": "code",
   "execution_count": 15,
   "metadata": {},
   "outputs": [
    {
     "data": {
      "text/plain": [
       "84"
      ]
     },
     "execution_count": 15,
     "metadata": {},
     "output_type": "execute_result"
    }
   ],
   "source": [
    "population[9][2]"
   ]
  }
 ],
 "metadata": {
  "kernelspec": {
   "display_name": ".venv",
   "language": "python",
   "name": "python3"
  },
  "language_info": {
   "codemirror_mode": {
    "name": "ipython",
    "version": 3
   },
   "file_extension": ".py",
   "mimetype": "text/x-python",
   "name": "python",
   "nbconvert_exporter": "python",
   "pygments_lexer": "ipython3",
   "version": "3.11.6"
  }
 },
 "nbformat": 4,
 "nbformat_minor": 2
}
