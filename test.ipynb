{
 "cells": [
  {
   "cell_type": "code",
   "execution_count": 6,
   "metadata": {},
   "outputs": [
    {
     "name": "stdout",
     "output_type": "stream",
     "text": [
      "Populasi Awal:\n",
      "[90, 41, 39, 81, 20]\n",
      "[12, 60, 96, 89, 63]\n",
      "[81, 21, 78, 24, 92]\n",
      "[50, 43, 14, 3, 66]\n",
      "[25, 30, 40, 69, 25]\n",
      "[31, 36, 23, 16, 69]\n",
      "[14, 14, 41, 92, 82]\n",
      "[57, 60, 94, 13, 82]\n",
      "[29, 79, 12, 6, 72]\n",
      "[0, 74, 84, 69, 44]\n"
     ]
    }
   ],
   "source": [
    "import random\n",
    "\n",
    "def generate_individual(chromosome_length):\n",
    "    # Fungsi ini menghasilkan satu individu acak dengan panjang kromosom tertentu.\n",
    "    return [random.randint(0, 100) for _ in range(chromosome_length)]\n",
    "\n",
    "def initialize_population(population_size, chromosome_length):\n",
    "    # Fungsi ini menghasilkan populasi awal dengan sejumlah individu.\n",
    "    return [generate_individual(chromosome_length) for _ in range(population_size)]\n",
    "\n",
    "# Contoh penggunaan\n",
    "population_size = 10\n",
    "chromosome_length = 5\n",
    "\n",
    "population = initialize_population(population_size, chromosome_length)\n",
    "print(\"Populasi Awal:\")\n",
    "for individual in population:\n",
    "    print(individual)\n"
   ]
  },
  {
   "cell_type": "code",
   "execution_count": 15,
   "metadata": {},
   "outputs": [
    {
     "data": {
      "text/plain": [
       "84"
      ]
     },
     "execution_count": 15,
     "metadata": {},
     "output_type": "execute_result"
    }
   ],
   "source": [
    "population[9][2]"
   ]
  },
  {
   "cell_type": "code",
   "execution_count": 6,
   "metadata": {},
   "outputs": [
    {
     "name": "stdout",
     "output_type": "stream",
     "text": [
      "Orangtua 1: [1, 2, 3, 4, 5]\n",
      "Orangtua 2: [5, 4, 3, 2, 1]\n",
      "Orangtua 3: [2, 3, 4, 5, 1]\n",
      "Orangtua 4: [4, 5, 1, 2, 3]\n",
      "Anak 1 setelah crossover: [1, 2, 3, 2, 1]\n",
      "Anak 2 setelah crossover: [2, 3, 4, 2, 5]\n",
      "Anak 3 setelah crossover: [5, 4, 3, 4, 3]\n",
      "Anak 4 setelah crossover: [4, 5, 1, 5, 1]\n"
     ]
    }
   ],
   "source": [
    "import random\n",
    "\n",
    "def crossover_4_parents(parent1, parent2, parent3, parent4):\n",
    "    # Menghitung panjang kromosom\n",
    "    chromosome_length = len(parent1)\n",
    "\n",
    "    # Memilih dua titik crossover acak\n",
    "    crossover_point1 = random.randint(1, chromosome_length - 1)\n",
    "    crossover_point2 = random.randint(1, chromosome_length - 1)\n",
    "\n",
    "    # Memastikan titik crossover1 dan crossover2 berbeda\n",
    "    while crossover_point1 == crossover_point2:\n",
    "        crossover_point2 = random.randint(1, chromosome_length - 1)\n",
    "\n",
    "    # Mengurutkan titik crossover\n",
    "    crossover_point1, crossover_point2 = min(crossover_point1, crossover_point2), max(crossover_point1, crossover_point2)\n",
    "\n",
    "    # Membuat empat anak baru dengan menggabungkan gen dari empat orangtua\n",
    "    child1 = parent1[:crossover_point1] + parent2[crossover_point1:crossover_point2] + parent3[crossover_point2:] + parent4[crossover_point2:]\n",
    "    child2 = parent3[:crossover_point1] + parent4[crossover_point1:crossover_point2] + parent1[crossover_point2:] + parent2[crossover_point2:]\n",
    "    child3 = parent2[:crossover_point1] + parent1[crossover_point1:crossover_point2] + parent4[crossover_point2:] + parent3[crossover_point2:]\n",
    "    child4 = parent4[:crossover_point1] + parent3[crossover_point1:crossover_point2] + parent2[crossover_point2:] + parent1[crossover_point2:]\n",
    "\n",
    "    return child1[:5], child2[:5], child3[:5], child4[:5]\n",
    "\n",
    "# Contoh penggunaan\n",
    "parent1 = [1, 2, 3, 4, 5]\n",
    "parent2 = [5, 4, 3, 2, 1]\n",
    "parent3 = [2, 3, 4, 5, 1]\n",
    "parent4 = [4, 5, 1, 2, 3]\n",
    "\n",
    "child1, child2, child3, child4 = crossover_4_parents(parent1, parent2, parent3, parent4)\n",
    "\n",
    "# Menampilkan hasil crossover 4 orangtua dengan panjang kromosom anak 5\n",
    "print(\"Orangtua 1:\", parent1)\n",
    "print(\"Orangtua 2:\", parent2)\n",
    "print(\"Orangtua 3:\", parent3)\n",
    "print(\"Orangtua 4:\", parent4)\n",
    "print(\"Anak 1 setelah crossover:\", child1)\n",
    "print(\"Anak 2 setelah crossover:\", child2)\n",
    "print(\"Anak 3 setelah crossover:\", child3)\n",
    "print(\"Anak 4 setelah crossover:\", child4)\n"
   ]
  }
 ],
 "metadata": {
  "kernelspec": {
   "display_name": ".venv",
   "language": "python",
   "name": "python3"
  },
  "language_info": {
   "codemirror_mode": {
    "name": "ipython",
    "version": 3
   },
   "file_extension": ".py",
   "mimetype": "text/x-python",
   "name": "python",
   "nbconvert_exporter": "python",
   "pygments_lexer": "ipython3",
   "version": "3.11.6"
  }
 },
 "nbformat": 4,
 "nbformat_minor": 2
}
